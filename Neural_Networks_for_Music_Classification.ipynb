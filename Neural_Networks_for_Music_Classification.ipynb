{
  "nbformat": 4,
  "nbformat_minor": 0,
  "metadata": {
    "anaconda-cloud": {},
    "kernelspec": {
      "display_name": "Python 3",
      "language": "python",
      "name": "python3"
    },
    "language_info": {
      "codemirror_mode": {
        "name": "ipython",
        "version": 3
      },
      "file_extension": ".py",
      "mimetype": "text/x-python",
      "name": "python",
      "nbconvert_exporter": "python",
      "pygments_lexer": "ipython3",
      "version": "3.8.3"
    },
    "colab": {
      "name": "Neural Networks for Music Classification.ipynb",
      "provenance": [],
      "collapsed_sections": []
    }
  },
  "cells": [
    {
      "cell_type": "markdown",
      "metadata": {
        "id": "MKhLcqnBfg4S"
      },
      "source": [
        "Given a sample of music, we want to determine which instrument (e.g. trumpet, violin, piano) is playing.  \n",
        "\n",
        "Data Source:\n",
        "\n",
        "http://marl.smusic.nyu.edu/wordpress/projects/feature-learning-deep-architectures/deep-learning-python-tutorial/\n",
        "\n",
        "\n"
      ]
    },
    {
      "cell_type": "code",
      "metadata": {
        "id": "lzBsrt70fg4Y"
      },
      "source": [
        "import tensorflow as tf\n",
        "import numpy as np\n",
        "import matplotlib\n",
        "import matplotlib.pyplot as plt"
      ],
      "execution_count": null,
      "outputs": []
    },
    {
      "cell_type": "markdown",
      "metadata": {
        "id": "ZLeVemrlfg4b"
      },
      "source": [
        "## Audio Feature Extraction with Librosa\n",
        "\n"
      ]
    },
    {
      "cell_type": "code",
      "metadata": {
        "id": "6NAQOuOsfg4c"
      },
      "source": [
        "import librosa\n",
        "import librosa.display\n",
        "import librosa.feature"
      ],
      "execution_count": null,
      "outputs": []
    },
    {
      "cell_type": "code",
      "metadata": {
        "id": "8grhF8tyfg4e"
      },
      "source": [
        "import requests\n",
        "fn = \"SopSax.Vib.pp.C6Eb6.aiff\"\n",
        "url = \"http://theremin.music.uiowa.edu/sound files/MIS/Woodwinds/sopranosaxophone/\"+fn\n",
        "\n",
        "# Load the file from url and save it in a file under the name fn\n",
        "r = requests.get(url = url)\n",
        "with open(fn,'wb') as f:\n",
        "  f.write(r.content)"
      ],
      "execution_count": null,
      "outputs": []
    },
    {
      "cell_type": "markdown",
      "metadata": {
        "id": "poOQ4e7Ffg4h"
      },
      "source": [
        "I used `librosa` to read the audio file with filename `fn` and get the samples `y` and sample rate `sr`."
      ]
    },
    {
      "cell_type": "code",
      "metadata": {
        "id": "YsOp_Jvefg4h"
      },
      "source": [
        "y, sr = librosa.load(fn)"
      ],
      "execution_count": null,
      "outputs": []
    },
    {
      "cell_type": "code",
      "metadata": {
        "id": "GA9w-_c6fg4k",
        "colab": {
          "base_uri": "https://localhost:8080/",
          "height": 297
        },
        "outputId": "cbaae0d4-c578-447f-92e9-4680744a0b6b"
      },
      "source": [
        "S = librosa.feature.melspectrogram(y=y, sr=sr, n_mels=128, fmax=8000)\n",
        "librosa.display.specshow(librosa.amplitude_to_db(S),\n",
        "                         y_axis='mel', fmax=8000, x_axis='time')\n",
        "plt.colorbar(format='%+2.0f dB')\n",
        "plt.title('Mel spectrogram')\n",
        "plt.tight_layout()"
      ],
      "execution_count": null,
      "outputs": [
        {
          "output_type": "display_data",
          "data": {
            "image/png": "[encoded data removed]",
            "text/plain": [
              "<Figure size 432x288 with 2 Axes>"
            ]
          },
          "metadata": {
            "tags": [],
            "needs_background": "light"
          }
        }
      ]
    },
    {
      "cell_type": "markdown",
      "metadata": {
        "id": "94JQfovJfg4m"
      },
      "source": [
        "## Downloading the Data"
      ]
    },
    {
      "cell_type": "code",
      "metadata": {
        "id": "5_jGSwdGfg4n"
      },
      "source": [
        "# data_dir = 'instrument_dataset/'\n",
        "Xtr = np.load('uiowa_train_data.npy')\n",
        "ytr = np.load('uiowa_train_labels.npy')\n",
        "Xts = np.load('uiowa_test_data.npy')\n",
        "yts = np.load('uiowa_test_labels.npy')"
      ],
      "execution_count": null,
      "outputs": []
    },
    {
      "cell_type": "code",
      "metadata": {
        "id": "c3vfUYkufg4p",
        "colab": {
          "base_uri": "https://localhost:8080/"
        },
        "outputId": "fb8f3647-8f50-4d12-9fe7-2c697920d211"
      },
      "source": [
        "print(\"Training samples: \", Xtr.shape[0])\n",
        "print(\"Test samples: \", Xts.shape[0])\n",
        "print(\"Number of Features: \", Xtr.shape[1])\n",
        "print(\"Number of Classes: \", np.unique(ytr).shape[0])"
      ],
      "execution_count": null,
      "outputs": [
        {
          "output_type": "stream",
          "text": [
            "Training samples:  66247\n",
            "Test samples:  14904\n",
            "Number of Features:  120\n",
            "Number of Classes:  10\n"
          ],
          "name": "stdout"
        }
      ]
    },
    {
      "cell_type": "code",
      "metadata": {
        "id": "jV6bncdffg4r"
      },
      "source": [
        "# Scale the training and test matrices\n",
        "x_mean = np.mean(Xtr, axis=0)\n",
        "x_std = np.std(Xtr, axis=0)\n",
        "Xtr_scale = (Xtr - x_mean)/x_std\n",
        "Xts_scale = (Xts - x_mean)/x_std"
      ],
      "execution_count": null,
      "outputs": []
    },
    {
      "cell_type": "markdown",
      "metadata": {
        "collapsed": true,
        "id": "EaLyjztyfg4t"
      },
      "source": [
        "## Building a Neural Network Classifier\n",
        "\n",
        "Neural network `model` with:\n",
        "* `nh=256` hidden units\n",
        "* `sigmoid` activation\n",
        "* select the input and output shapes correctly\n",
        "* print the model summary"
      ]
    },
    {
      "cell_type": "code",
      "metadata": {
        "id": "Oulom5esfg4u"
      },
      "source": [
        "from tensorflow.keras.models import Model, Sequential\n",
        "from tensorflow.keras.layers import Dense, Activation\n",
        "import tensorflow.keras.backend as K\n"
      ],
      "execution_count": null,
      "outputs": []
    },
    {
      "cell_type": "code",
      "metadata": {
        "id": "D8XdGCG4fg4v"
      },
      "source": [
        "K.clear_session()"
      ],
      "execution_count": null,
      "outputs": []
    },
    {
      "cell_type": "code",
      "metadata": {
        "id": "EQ-G7Vsufg4x"
      },
      "source": [
        "nin = Xtr_scale.shape[1]\n",
        "nh = 256\n",
        "nout = int(np.unique(ytr).shape[0])\n",
        "\n",
        "model = Sequential()\n",
        "model.add(Dense(nh, input_shape = (nin, ), activation = 'sigmoid', name = 'hidden'))\n",
        "model.add(Dense(nout, activation = 'softmax', name = 'output'))"
      ],
      "execution_count": null,
      "outputs": []
    },
    {
      "cell_type": "code",
      "metadata": {
        "id": "0Rzgb-zHfg40",
        "colab": {
          "base_uri": "https://localhost:8080/"
        },
        "outputId": "e8595c7f-6a91-48e2-84ec-97b755e6df2c"
      },
      "source": [
        "model.summary()"
      ],
      "execution_count": null,
      "outputs": [
        {
          "output_type": "stream",
          "text": [
            "Model: \"sequential\"\n",
            "_________________________________________________________________\n",
            "Layer (type)                 Output Shape              Param #   \n",
            "=================================================================\n",
            "hidden (Dense)               (None, 256)               30976     \n",
            "_________________________________________________________________\n",
            "output (Dense)               (None, 10)                2570      \n",
            "=================================================================\n",
            "Total params: 33,546\n",
            "Trainable params: 33,546\n",
            "Non-trainable params: 0\n",
            "_________________________________________________________________\n"
          ],
          "name": "stdout"
        }
      ]
    },
    {
      "cell_type": "code",
      "metadata": {
        "scrolled": true,
        "id": "oRnCG8_5fg42"
      },
      "source": [
        "from tensorflow.keras import optimizers\n",
        "\n",
        "opt = optimizers.Adam(lr = 0.001)\n",
        "model.compile(optimizer = opt,\n",
        "              loss = 'sparse_categorical_crossentropy',\n",
        "              metrics = ['accuracy'])"
      ],
      "execution_count": null,
      "outputs": []
    },
    {
      "cell_type": "code",
      "metadata": {
        "scrolled": true,
        "id": "PDt4BiRAfg44",
        "colab": {
          "base_uri": "https://localhost:8080/"
        },
        "outputId": "7c68c270-d5c7-4f2c-af8b-4f9f3c116653"
      },
      "source": [
        "hist = model.fit(Xtr_scale, ytr, batch_size = 100, epochs = 10, validation_data=(Xts_scale, yts))"
      ],
      "execution_count": null,
      "outputs": [
        {
          "output_type": "stream",
          "text": [
            "Epoch 1/10\n",
            "663/663 [==============================] - 2s 3ms/step - loss: 0.3649 - accuracy: 0.8978 - val_loss: 0.2040 - val_accuracy: 0.9369\n",
            "Epoch 2/10\n",
            "663/663 [==============================] - 2s 2ms/step - loss: 0.1035 - accuracy: 0.9746 - val_loss: 0.0896 - val_accuracy: 0.9791\n",
            "Epoch 3/10\n",
            "663/663 [==============================] - 2s 2ms/step - loss: 0.0607 - accuracy: 0.9853 - val_loss: 0.0626 - val_accuracy: 0.9832\n",
            "Epoch 4/10\n",
            "663/663 [==============================] - 2s 2ms/step - loss: 0.0426 - accuracy: 0.9890 - val_loss: 0.0517 - val_accuracy: 0.9865\n",
            "Epoch 5/10\n",
            "663/663 [==============================] - 2s 2ms/step - loss: 0.0326 - accuracy: 0.9918 - val_loss: 0.0455 - val_accuracy: 0.9867\n",
            "Epoch 6/10\n",
            "663/663 [==============================] - 2s 2ms/step - loss: 0.0256 - accuracy: 0.9935 - val_loss: 0.0368 - val_accuracy: 0.9881\n",
            "Epoch 7/10\n",
            "663/663 [==============================] - 2s 2ms/step - loss: 0.0210 - accuracy: 0.9945 - val_loss: 0.0289 - val_accuracy: 0.9914\n",
            "Epoch 8/10\n",
            "663/663 [==============================] - 1s 2ms/step - loss: 0.0175 - accuracy: 0.9955 - val_loss: 0.0270 - val_accuracy: 0.9918\n",
            "Epoch 9/10\n",
            "663/663 [==============================] - 2s 2ms/step - loss: 0.0150 - accuracy: 0.9961 - val_loss: 0.0268 - val_accuracy: 0.9917\n",
            "Epoch 10/10\n",
            "663/663 [==============================] - 1s 2ms/step - loss: 0.0131 - accuracy: 0.9966 - val_loss: 0.0229 - val_accuracy: 0.9925\n"
          ],
          "name": "stdout"
        }
      ]
    },
    {
      "cell_type": "code",
      "metadata": {
        "id": "IN_DHfnxfg47",
        "colab": {
          "base_uri": "https://localhost:8080/",
          "height": 279
        },
        "outputId": "29a6a68c-8060-42a2-cf38-63fe7ccc6f5b"
      },
      "source": [
        "val_accuracy = hist.history['val_accuracy']\n",
        "plt.plot(val_accuracy)\n",
        "plt.xlabel('Epochs')\n",
        "plt.ylabel('Validation Accuarcy')\n",
        "plt.grid()"
      ],
      "execution_count": null,
      "outputs": [
        {
          "output_type": "display_data",
          "data": {
            "image/png": "[encoded data removed]",
            "text/plain": [
              "<Figure size 432x288 with 1 Axes>"
            ]
          },
          "metadata": {
            "tags": [],
            "needs_background": "light"
          }
        }
      ]
    },
    {
      "cell_type": "code",
      "metadata": {
        "id": "GXxZzUdvfg49",
        "colab": {
          "base_uri": "https://localhost:8080/",
          "height": 279
        },
        "outputId": "b259700e-1a1f-4b34-c287-e14fe02c625f"
      },
      "source": [
        "loss = hist.history['loss']\n",
        "plt.semilogy(loss)\n",
        "plt.xlabel('Epochs')\n",
        "plt.ylabel('Losses')\n",
        "plt.grid()"
      ],
      "execution_count": null,
      "outputs": [
        {
          "output_type": "display_data",
          "data": {
            "image/png": "[encoded data removed]",
            "text/plain": [
              "<Figure size 432x288 with 1 Axes>"
            ]
          },
          "metadata": {
            "tags": [],
            "needs_background": "light"
          }
        }
      ]
    },
    {
      "cell_type": "markdown",
      "metadata": {
        "id": "YbTlHtIZfg4_"
      },
      "source": [
        "## Optimizing the Learning Rate\n"
      ]
    },
    {
      "cell_type": "code",
      "metadata": {
        "id": "BRP0JppXfg4_",
        "colab": {
          "base_uri": "https://localhost:8080/"
        },
        "outputId": "61e3398c-6617-4ff0-8a8e-a17ce77c6b8d"
      },
      "source": [
        "rates = [0.01,0.001,0.0001]\n",
        "batch_size = 100\n",
        "loss_hist = []\n",
        "acc_hist = []\n",
        "\n",
        "nin = Xtr_scale.shape[1]\n",
        "nh = 256\n",
        "nout = int(np.unique(ytr).shape[0])\n",
        "\n",
        "for lr in rates:\n",
        "\n",
        "  K.clear_session()\n",
        "\n",
        "  model = Sequential()\n",
        "  model.add(Dense(nh, input_shape = (nin, ), activation = 'sigmoid', name = 'hidden'))\n",
        "  model.add(Dense(nout, activation = 'softmax', name = 'output'))\n",
        "    \n",
        "  opt = optimizers.Adam(lr = lr)\n",
        "  model.compile(optimizer = opt,\n",
        "                loss = 'sparse_categorical_crossentropy',\n",
        "                metrics = ['accuracy'])\n",
        "    \n",
        "  hist = model.fit(Xtr_scale, ytr, batch_size = 100, epochs = 20, validation_data=(Xts_scale, yts))\n",
        "  \n",
        "  loss_hist.append(hist.history['loss'])\n",
        "  acc_hist.append(hist.history['accuracy'])"
      ],
      "execution_count": null,
      "outputs": [
        {
          "output_type": "stream",
          "text": [
            "Epoch 1/20\n",
            "663/663 [==============================] - 2s 3ms/step - loss: 0.1070 - accuracy: 0.9669 - val_loss: 0.0584 - val_accuracy: 0.9788\n",
            "Epoch 2/20\n",
            "663/663 [==============================] - 2s 3ms/step - loss: 0.0326 - accuracy: 0.9898 - val_loss: 0.0464 - val_accuracy: 0.9813\n",
            "Epoch 3/20\n",
            "663/663 [==============================] - 2s 3ms/step - loss: 0.0189 - accuracy: 0.9936 - val_loss: 0.0315 - val_accuracy: 0.9885\n",
            "Epoch 4/20\n",
            "663/663 [==============================] - 2s 3ms/step - loss: 0.0204 - accuracy: 0.9934 - val_loss: 0.0606 - val_accuracy: 0.9777\n",
            "Epoch 5/20\n",
            "663/663 [==============================] - 2s 3ms/step - loss: 0.0152 - accuracy: 0.9947 - val_loss: 0.0386 - val_accuracy: 0.9869\n",
            "Epoch 6/20\n",
            "663/663 [==============================] - 2s 3ms/step - loss: 0.0137 - accuracy: 0.9957 - val_loss: 0.0229 - val_accuracy: 0.9923\n",
            "Epoch 7/20\n",
            "663/663 [==============================] - 2s 3ms/step - loss: 0.0122 - accuracy: 0.9961 - val_loss: 0.0212 - val_accuracy: 0.9931\n",
            "Epoch 8/20\n",
            "663/663 [==============================] - 2s 3ms/step - loss: 0.0099 - accuracy: 0.9969 - val_loss: 0.0492 - val_accuracy: 0.9862\n",
            "Epoch 9/20\n",
            "663/663 [==============================] - 2s 3ms/step - loss: 0.0097 - accuracy: 0.9970 - val_loss: 0.0948 - val_accuracy: 0.9741\n",
            "Epoch 10/20\n",
            "663/663 [==============================] - 2s 3ms/step - loss: 0.0133 - accuracy: 0.9960 - val_loss: 0.0524 - val_accuracy: 0.9840\n",
            "Epoch 11/20\n",
            "663/663 [==============================] - 2s 3ms/step - loss: 0.0092 - accuracy: 0.9971 - val_loss: 0.0918 - val_accuracy: 0.9795\n",
            "Epoch 12/20\n",
            "663/663 [==============================] - 2s 3ms/step - loss: 0.0084 - accuracy: 0.9974 - val_loss: 0.0691 - val_accuracy: 0.9797\n",
            "Epoch 13/20\n",
            "663/663 [==============================] - 2s 3ms/step - loss: 0.0110 - accuracy: 0.9965 - val_loss: 0.0366 - val_accuracy: 0.9895\n",
            "Epoch 14/20\n",
            "663/663 [==============================] - 2s 3ms/step - loss: 0.0098 - accuracy: 0.9968 - val_loss: 0.0597 - val_accuracy: 0.9832\n",
            "Epoch 15/20\n",
            "663/663 [==============================] - 2s 3ms/step - loss: 0.0089 - accuracy: 0.9972 - val_loss: 0.0400 - val_accuracy: 0.9900\n",
            "Epoch 16/20\n",
            "663/663 [==============================] - 2s 3ms/step - loss: 0.0097 - accuracy: 0.9968 - val_loss: 0.0448 - val_accuracy: 0.9881\n",
            "Epoch 17/20\n",
            "663/663 [==============================] - 2s 3ms/step - loss: 0.0076 - accuracy: 0.9977 - val_loss: 0.0387 - val_accuracy: 0.9889\n",
            "Epoch 18/20\n",
            "663/663 [==============================] - 2s 2ms/step - loss: 0.0084 - accuracy: 0.9974 - val_loss: 0.0509 - val_accuracy: 0.9883\n",
            "Epoch 19/20\n",
            "663/663 [==============================] - 2s 3ms/step - loss: 0.0081 - accuracy: 0.9977 - val_loss: 0.0469 - val_accuracy: 0.9883\n",
            "Epoch 20/20\n",
            "663/663 [==============================] - 2s 3ms/step - loss: 0.0088 - accuracy: 0.9975 - val_loss: 0.0417 - val_accuracy: 0.9892\n",
            "Epoch 1/20\n",
            "663/663 [==============================] - 2s 3ms/step - loss: 0.3574 - accuracy: 0.9020 - val_loss: 0.1864 - val_accuracy: 0.9432\n",
            "Epoch 2/20\n",
            "663/663 [==============================] - 2s 3ms/step - loss: 0.1012 - accuracy: 0.9757 - val_loss: 0.0884 - val_accuracy: 0.9822\n",
            "Epoch 3/20\n",
            "663/663 [==============================] - 2s 3ms/step - loss: 0.0593 - accuracy: 0.9855 - val_loss: 0.0823 - val_accuracy: 0.9751\n",
            "Epoch 4/20\n",
            "663/663 [==============================] - 2s 2ms/step - loss: 0.0420 - accuracy: 0.9894 - val_loss: 0.0546 - val_accuracy: 0.9848\n",
            "Epoch 5/20\n",
            "663/663 [==============================] - 2s 3ms/step - loss: 0.0315 - accuracy: 0.9921 - val_loss: 0.0418 - val_accuracy: 0.9891\n",
            "Epoch 6/20\n",
            "663/663 [==============================] - 2s 2ms/step - loss: 0.0254 - accuracy: 0.9935 - val_loss: 0.0345 - val_accuracy: 0.9903\n",
            "Epoch 7/20\n",
            "663/663 [==============================] - 2s 2ms/step - loss: 0.0207 - accuracy: 0.9946 - val_loss: 0.0288 - val_accuracy: 0.9917\n",
            "Epoch 8/20\n",
            "663/663 [==============================] - 2s 2ms/step - loss: 0.0176 - accuracy: 0.9956 - val_loss: 0.0274 - val_accuracy: 0.9910\n",
            "Epoch 9/20\n",
            "663/663 [==============================] - 2s 2ms/step - loss: 0.0152 - accuracy: 0.9960 - val_loss: 0.0280 - val_accuracy: 0.9909\n",
            "Epoch 10/20\n",
            "663/663 [==============================] - 2s 2ms/step - loss: 0.0129 - accuracy: 0.9968 - val_loss: 0.0285 - val_accuracy: 0.9904\n",
            "Epoch 11/20\n",
            "663/663 [==============================] - 2s 3ms/step - loss: 0.0112 - accuracy: 0.9971 - val_loss: 0.0316 - val_accuracy: 0.9885\n",
            "Epoch 12/20\n",
            "663/663 [==============================] - 2s 2ms/step - loss: 0.0102 - accuracy: 0.9974 - val_loss: 0.0283 - val_accuracy: 0.9904\n",
            "Epoch 13/20\n",
            "663/663 [==============================] - 2s 2ms/step - loss: 0.0096 - accuracy: 0.9975 - val_loss: 0.0253 - val_accuracy: 0.9911\n",
            "Epoch 14/20\n",
            "663/663 [==============================] - 2s 2ms/step - loss: 0.0083 - accuracy: 0.9978 - val_loss: 0.0291 - val_accuracy: 0.9894\n",
            "Epoch 15/20\n",
            "663/663 [==============================] - 2s 2ms/step - loss: 0.0075 - accuracy: 0.9981 - val_loss: 0.0271 - val_accuracy: 0.9911\n",
            "Epoch 16/20\n",
            "663/663 [==============================] - 2s 2ms/step - loss: 0.0071 - accuracy: 0.9981 - val_loss: 0.0337 - val_accuracy: 0.9882\n",
            "Epoch 17/20\n",
            "663/663 [==============================] - 2s 2ms/step - loss: 0.0062 - accuracy: 0.9983 - val_loss: 0.0257 - val_accuracy: 0.9905\n",
            "Epoch 18/20\n",
            "663/663 [==============================] - 2s 2ms/step - loss: 0.0060 - accuracy: 0.9984 - val_loss: 0.0239 - val_accuracy: 0.9920\n",
            "Epoch 19/20\n",
            "663/663 [==============================] - 2s 2ms/step - loss: 0.0054 - accuracy: 0.9986 - val_loss: 0.0230 - val_accuracy: 0.9923\n",
            "Epoch 20/20\n",
            "663/663 [==============================] - 2s 2ms/step - loss: 0.0048 - accuracy: 0.9987 - val_loss: 0.0270 - val_accuracy: 0.9916\n",
            "Epoch 1/20\n",
            "663/663 [==============================] - 2s 3ms/step - loss: 1.1697 - accuracy: 0.6304 - val_loss: 0.8893 - val_accuracy: 0.6598\n",
            "Epoch 2/20\n",
            "663/663 [==============================] - 2s 2ms/step - loss: 0.5757 - accuracy: 0.8417 - val_loss: 0.5871 - val_accuracy: 0.8178\n",
            "Epoch 3/20\n",
            "663/663 [==============================] - 2s 2ms/step - loss: 0.3950 - accuracy: 0.9078 - val_loss: 0.4506 - val_accuracy: 0.8693\n",
            "Epoch 4/20\n",
            "663/663 [==============================] - 2s 2ms/step - loss: 0.3034 - accuracy: 0.9322 - val_loss: 0.3622 - val_accuracy: 0.8990\n",
            "Epoch 5/20\n",
            "663/663 [==============================] - 2s 2ms/step - loss: 0.2457 - accuracy: 0.9447 - val_loss: 0.2949 - val_accuracy: 0.9200\n",
            "Epoch 6/20\n",
            "663/663 [==============================] - 2s 2ms/step - loss: 0.2048 - accuracy: 0.9542 - val_loss: 0.2583 - val_accuracy: 0.9245\n",
            "Epoch 7/20\n",
            "663/663 [==============================] - 2s 2ms/step - loss: 0.1738 - accuracy: 0.9599 - val_loss: 0.2189 - val_accuracy: 0.9363\n",
            "Epoch 8/20\n",
            "663/663 [==============================] - 1s 2ms/step - loss: 0.1497 - accuracy: 0.9645 - val_loss: 0.1794 - val_accuracy: 0.9525\n",
            "Epoch 9/20\n",
            "663/663 [==============================] - 2s 2ms/step - loss: 0.1304 - accuracy: 0.9689 - val_loss: 0.1596 - val_accuracy: 0.9557\n",
            "Epoch 10/20\n",
            "663/663 [==============================] - 1s 2ms/step - loss: 0.1148 - accuracy: 0.9728 - val_loss: 0.1451 - val_accuracy: 0.9581\n",
            "Epoch 11/20\n",
            "663/663 [==============================] - 2s 2ms/step - loss: 0.1021 - accuracy: 0.9758 - val_loss: 0.1259 - val_accuracy: 0.9656\n",
            "Epoch 12/20\n",
            "663/663 [==============================] - 2s 2ms/step - loss: 0.0916 - accuracy: 0.9782 - val_loss: 0.1138 - val_accuracy: 0.9684\n",
            "Epoch 13/20\n",
            "663/663 [==============================] - 2s 2ms/step - loss: 0.0830 - accuracy: 0.9804 - val_loss: 0.0979 - val_accuracy: 0.9767\n",
            "Epoch 14/20\n",
            "663/663 [==============================] - 2s 2ms/step - loss: 0.0756 - accuracy: 0.9819 - val_loss: 0.0950 - val_accuracy: 0.9728\n",
            "Epoch 15/20\n",
            "663/663 [==============================] - 2s 2ms/step - loss: 0.0694 - accuracy: 0.9838 - val_loss: 0.0865 - val_accuracy: 0.9768\n",
            "Epoch 16/20\n",
            "663/663 [==============================] - 2s 2ms/step - loss: 0.0640 - accuracy: 0.9848 - val_loss: 0.0795 - val_accuracy: 0.9805\n",
            "Epoch 17/20\n",
            "663/663 [==============================] - 2s 2ms/step - loss: 0.0593 - accuracy: 0.9861 - val_loss: 0.0714 - val_accuracy: 0.9838\n",
            "Epoch 18/20\n",
            "663/663 [==============================] - 2s 2ms/step - loss: 0.0554 - accuracy: 0.9868 - val_loss: 0.0684 - val_accuracy: 0.9836\n",
            "Epoch 19/20\n",
            "663/663 [==============================] - 2s 2ms/step - loss: 0.0518 - accuracy: 0.9877 - val_loss: 0.0617 - val_accuracy: 0.9860\n",
            "Epoch 20/20\n",
            "663/663 [==============================] - 2s 2ms/step - loss: 0.0488 - accuracy: 0.9882 - val_loss: 0.0625 - val_accuracy: 0.9841\n"
          ],
          "name": "stdout"
        }
      ]
    },
    {
      "cell_type": "code",
      "metadata": {
        "id": "uVUJm14afg5B",
        "colab": {
          "base_uri": "https://localhost:8080/",
          "height": 278
        },
        "outputId": "d5701e84-97e6-4016-d65a-3f96d0527025"
      },
      "source": [
        "plt.plot(loss_hist[0])\n",
        "plt.plot(loss_hist[1])\n",
        "plt.plot(loss_hist[2])\n",
        "plt.xlabel('Epoch')\n",
        "plt.ylabel('Losses')\n",
        "plt.legend((rates[0], rates[1], rates[2]))\n",
        "plt.grid()"
      ],
      "execution_count": null,
      "outputs": [
        {
          "output_type": "display_data",
          "data": {
            "image/png": "[encoded data removed]",
            "text/plain": [
              "<Figure size 432x288 with 1 Axes>"
            ]
          },
          "metadata": {
            "tags": [],
            "needs_background": "light"
          }
        }
      ]
    }
  ]
}